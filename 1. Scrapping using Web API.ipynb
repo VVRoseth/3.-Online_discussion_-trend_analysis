{
 "cells": [
  {
   "cell_type": "markdown",
   "metadata": {},
   "source": [
    "# Project 3 - Web APIs and Natural Language Processing"
   ]
  },
  {
   "cell_type": "markdown",
   "metadata": {},
   "source": [
    "## Using Web APIs to extract data from Reddit "
   ]
  },
  {
   "cell_type": "code",
   "execution_count": 1,
   "metadata": {},
   "outputs": [],
   "source": [
    "# Importing the libraries that I need. \n",
    "\n",
    "import requests\n",
    "import pandas as pd"
   ]
  },
  {
   "cell_type": "markdown",
   "metadata": {},
   "source": [
    "#### Getting 10,000 submissions from Career Guidance subredit"
   ]
  },
  {
   "cell_type": "code",
   "execution_count": 2,
   "metadata": {},
   "outputs": [],
   "source": [
    "# Getting the basic url for Reddits API submissions\n",
    "url = 'https://api.pushshift.io/reddit/search/submission'"
   ]
  },
  {
   "cell_type": "code",
   "execution_count": 93,
   "metadata": {},
   "outputs": [],
   "source": [
    "# Setting parameters. The 'before' parameter was changed mannually 10 times. \n",
    "\n",
    "params = {'subreddit':'careerguidance', \n",
    "         'size': 1000,\n",
    "         'before': 1574078453}"
   ]
  },
  {
   "cell_type": "code",
   "execution_count": 94,
   "metadata": {},
   "outputs": [],
   "source": [
    "# Requesting content from url\n",
    "response_career = requests.get(url,params)"
   ]
  },
  {
   "cell_type": "code",
   "execution_count": 95,
   "metadata": {},
   "outputs": [
    {
     "data": {
      "text/plain": [
       "200"
      ]
     },
     "execution_count": 95,
     "metadata": {},
     "output_type": "execute_result"
    }
   ],
   "source": [
    "# Checking the status of the request. All good.\n",
    "response_career.status_code"
   ]
  },
  {
   "cell_type": "code",
   "execution_count": 96,
   "metadata": {},
   "outputs": [],
   "source": [
    "# Looking at the text \n",
    "career_data = response_career.json()"
   ]
  },
  {
   "cell_type": "code",
   "execution_count": 97,
   "metadata": {},
   "outputs": [],
   "source": [
    "posts = career_data['data']"
   ]
  },
  {
   "cell_type": "code",
   "execution_count": 98,
   "metadata": {},
   "outputs": [],
   "source": [
    "# Creating a data frame out of the information I have \n",
    "career_data_df10 = pd.DataFrame(posts)"
   ]
  },
  {
   "cell_type": "code",
   "execution_count": 99,
   "metadata": {},
   "outputs": [
    {
     "data": {
      "text/plain": [
       "(1000, 66)"
      ]
     },
     "execution_count": 99,
     "metadata": {},
     "output_type": "execute_result"
    }
   ],
   "source": [
    "# Making sure I have 1000 values \n",
    "career_data_df10.shape"
   ]
  },
  {
   "cell_type": "code",
   "execution_count": 100,
   "metadata": {},
   "outputs": [
    {
     "data": {
      "text/plain": [
       "995    1573279004\n",
       "996    1573278815\n",
       "997    1573277132\n",
       "998    1573276623\n",
       "999    1573275878\n",
       "Name: created_utc, dtype: int64"
      ]
     },
     "execution_count": 100,
     "metadata": {},
     "output_type": "execute_result"
    }
   ],
   "source": [
    "# Checking the time of creation of the last post to get the information to fill in the before parameter above.\n",
    "career_data_df10['created_utc'].tail()"
   ]
  },
  {
   "cell_type": "code",
   "execution_count": 101,
   "metadata": {},
   "outputs": [],
   "source": [
    "# Making a dataframe of the values I found \n",
    "career10= pd.DataFrame(career_data_df10)"
   ]
  },
  {
   "cell_type": "code",
   "execution_count": 102,
   "metadata": {},
   "outputs": [],
   "source": [
    "# Creating a list of dataframes\n",
    "career_df = [career1, career2, career3, career4, career5, career6, career7, career8, career9, career10]"
   ]
  },
  {
   "cell_type": "code",
   "execution_count": 103,
   "metadata": {},
   "outputs": [
    {
     "name": "stderr",
     "output_type": "stream",
     "text": [
      "/Users/vvroseth/opt/anaconda3/lib/python3.7/site-packages/ipykernel_launcher.py:2: FutureWarning: Sorting because non-concatenation axis is not aligned. A future version\n",
      "of pandas will change to not sort by default.\n",
      "\n",
      "To accept the future behavior, pass 'sort=False'.\n",
      "\n",
      "To retain the current behavior and silence the warning, pass 'sort=True'.\n",
      "\n",
      "  \n"
     ]
    }
   ],
   "source": [
    "# Concatenating them all into one dataframe \n",
    "career_complete = pd.concat(career_df) "
   ]
  },
  {
   "cell_type": "code",
   "execution_count": 104,
   "metadata": {},
   "outputs": [
    {
     "data": {
      "text/plain": [
       "pandas.core.frame.DataFrame"
      ]
     },
     "execution_count": 104,
     "metadata": {},
     "output_type": "execute_result"
    }
   ],
   "source": [
    "# Checking I actually created a dataframe \n",
    "type(career_complete)"
   ]
  },
  {
   "cell_type": "code",
   "execution_count": 105,
   "metadata": {},
   "outputs": [
    {
     "data": {
      "text/plain": [
       "(10000, 70)"
      ]
     },
     "execution_count": 105,
     "metadata": {},
     "output_type": "execute_result"
    }
   ],
   "source": [
    "# Checking the size of the data frame \n",
    "career_complete.shape"
   ]
  },
  {
   "cell_type": "code",
   "execution_count": 106,
   "metadata": {},
   "outputs": [
    {
     "data": {
      "text/html": [
       "<div>\n",
       "<style scoped>\n",
       "    .dataframe tbody tr th:only-of-type {\n",
       "        vertical-align: middle;\n",
       "    }\n",
       "\n",
       "    .dataframe tbody tr th {\n",
       "        vertical-align: top;\n",
       "    }\n",
       "\n",
       "    .dataframe thead th {\n",
       "        text-align: right;\n",
       "    }\n",
       "</style>\n",
       "<table border=\"1\" class=\"dataframe\">\n",
       "  <thead>\n",
       "    <tr style=\"text-align: right;\">\n",
       "      <th></th>\n",
       "      <th>all_awardings</th>\n",
       "      <th>allow_live_comments</th>\n",
       "      <th>author</th>\n",
       "      <th>author_cakeday</th>\n",
       "      <th>author_flair_background_color</th>\n",
       "      <th>author_flair_css_class</th>\n",
       "      <th>author_flair_richtext</th>\n",
       "      <th>author_flair_template_id</th>\n",
       "      <th>author_flair_text</th>\n",
       "      <th>author_flair_text_color</th>\n",
       "      <th>...</th>\n",
       "      <th>subreddit_subscribers</th>\n",
       "      <th>subreddit_type</th>\n",
       "      <th>thumbnail</th>\n",
       "      <th>thumbnail_height</th>\n",
       "      <th>thumbnail_width</th>\n",
       "      <th>title</th>\n",
       "      <th>total_awards_received</th>\n",
       "      <th>url</th>\n",
       "      <th>whitelist_status</th>\n",
       "      <th>wls</th>\n",
       "    </tr>\n",
       "  </thead>\n",
       "  <tbody>\n",
       "    <tr>\n",
       "      <th>0</th>\n",
       "      <td>[]</td>\n",
       "      <td>False</td>\n",
       "      <td>KAMI_aka</td>\n",
       "      <td>NaN</td>\n",
       "      <td>NaN</td>\n",
       "      <td>None</td>\n",
       "      <td>[]</td>\n",
       "      <td>NaN</td>\n",
       "      <td>None</td>\n",
       "      <td>NaN</td>\n",
       "      <td>...</td>\n",
       "      <td>128151</td>\n",
       "      <td>public</td>\n",
       "      <td>self</td>\n",
       "      <td>NaN</td>\n",
       "      <td>NaN</td>\n",
       "      <td>Can I pursue a master's in engineering managem...</td>\n",
       "      <td>0</td>\n",
       "      <td>https://www.reddit.com/r/careerguidance/commen...</td>\n",
       "      <td>all_ads</td>\n",
       "      <td>6</td>\n",
       "    </tr>\n",
       "    <tr>\n",
       "      <th>1</th>\n",
       "      <td>[]</td>\n",
       "      <td>False</td>\n",
       "      <td>LostAMO</td>\n",
       "      <td>NaN</td>\n",
       "      <td>NaN</td>\n",
       "      <td>None</td>\n",
       "      <td>[]</td>\n",
       "      <td>NaN</td>\n",
       "      <td>None</td>\n",
       "      <td>NaN</td>\n",
       "      <td>...</td>\n",
       "      <td>128147</td>\n",
       "      <td>public</td>\n",
       "      <td>self</td>\n",
       "      <td>NaN</td>\n",
       "      <td>NaN</td>\n",
       "      <td>Need advice on career change and from friends ...</td>\n",
       "      <td>0</td>\n",
       "      <td>https://www.reddit.com/r/careerguidance/commen...</td>\n",
       "      <td>all_ads</td>\n",
       "      <td>6</td>\n",
       "    </tr>\n",
       "    <tr>\n",
       "      <th>2</th>\n",
       "      <td>[]</td>\n",
       "      <td>False</td>\n",
       "      <td>PMMeYourMortys</td>\n",
       "      <td>NaN</td>\n",
       "      <td>NaN</td>\n",
       "      <td>None</td>\n",
       "      <td>[]</td>\n",
       "      <td>NaN</td>\n",
       "      <td>None</td>\n",
       "      <td>NaN</td>\n",
       "      <td>...</td>\n",
       "      <td>128142</td>\n",
       "      <td>public</td>\n",
       "      <td>self</td>\n",
       "      <td>NaN</td>\n",
       "      <td>NaN</td>\n",
       "      <td>Burnout: What freelance jobs can I do if I qui...</td>\n",
       "      <td>0</td>\n",
       "      <td>https://www.reddit.com/r/careerguidance/commen...</td>\n",
       "      <td>all_ads</td>\n",
       "      <td>6</td>\n",
       "    </tr>\n",
       "    <tr>\n",
       "      <th>3</th>\n",
       "      <td>[]</td>\n",
       "      <td>False</td>\n",
       "      <td>NotJobObsessed</td>\n",
       "      <td>NaN</td>\n",
       "      <td>NaN</td>\n",
       "      <td>None</td>\n",
       "      <td>[]</td>\n",
       "      <td>NaN</td>\n",
       "      <td>None</td>\n",
       "      <td>NaN</td>\n",
       "      <td>...</td>\n",
       "      <td>128140</td>\n",
       "      <td>public</td>\n",
       "      <td>self</td>\n",
       "      <td>NaN</td>\n",
       "      <td>NaN</td>\n",
       "      <td>Do I lack work ethic or am I being gaslighted?</td>\n",
       "      <td>0</td>\n",
       "      <td>https://www.reddit.com/r/careerguidance/commen...</td>\n",
       "      <td>all_ads</td>\n",
       "      <td>6</td>\n",
       "    </tr>\n",
       "    <tr>\n",
       "      <th>4</th>\n",
       "      <td>[]</td>\n",
       "      <td>False</td>\n",
       "      <td>NoxiousToxic</td>\n",
       "      <td>NaN</td>\n",
       "      <td>NaN</td>\n",
       "      <td>None</td>\n",
       "      <td>[]</td>\n",
       "      <td>NaN</td>\n",
       "      <td>None</td>\n",
       "      <td>NaN</td>\n",
       "      <td>...</td>\n",
       "      <td>128135</td>\n",
       "      <td>public</td>\n",
       "      <td>self</td>\n",
       "      <td>NaN</td>\n",
       "      <td>NaN</td>\n",
       "      <td>I was curious: Can you exchange pay for a plac...</td>\n",
       "      <td>0</td>\n",
       "      <td>https://www.reddit.com/r/careerguidance/commen...</td>\n",
       "      <td>all_ads</td>\n",
       "      <td>6</td>\n",
       "    </tr>\n",
       "  </tbody>\n",
       "</table>\n",
       "<p>5 rows × 70 columns</p>\n",
       "</div>"
      ],
      "text/plain": [
       "  all_awardings  allow_live_comments          author author_cakeday  \\\n",
       "0            []                False        KAMI_aka            NaN   \n",
       "1            []                False         LostAMO            NaN   \n",
       "2            []                False  PMMeYourMortys            NaN   \n",
       "3            []                False  NotJobObsessed            NaN   \n",
       "4            []                False    NoxiousToxic            NaN   \n",
       "\n",
       "  author_flair_background_color author_flair_css_class author_flair_richtext  \\\n",
       "0                           NaN                   None                    []   \n",
       "1                           NaN                   None                    []   \n",
       "2                           NaN                   None                    []   \n",
       "3                           NaN                   None                    []   \n",
       "4                           NaN                   None                    []   \n",
       "\n",
       "  author_flair_template_id author_flair_text author_flair_text_color  ...  \\\n",
       "0                      NaN              None                     NaN  ...   \n",
       "1                      NaN              None                     NaN  ...   \n",
       "2                      NaN              None                     NaN  ...   \n",
       "3                      NaN              None                     NaN  ...   \n",
       "4                      NaN              None                     NaN  ...   \n",
       "\n",
       "  subreddit_subscribers subreddit_type thumbnail thumbnail_height  \\\n",
       "0                128151         public      self              NaN   \n",
       "1                128147         public      self              NaN   \n",
       "2                128142         public      self              NaN   \n",
       "3                128140         public      self              NaN   \n",
       "4                128135         public      self              NaN   \n",
       "\n",
       "  thumbnail_width                                              title  \\\n",
       "0             NaN  Can I pursue a master's in engineering managem...   \n",
       "1             NaN  Need advice on career change and from friends ...   \n",
       "2             NaN  Burnout: What freelance jobs can I do if I qui...   \n",
       "3             NaN     Do I lack work ethic or am I being gaslighted?   \n",
       "4             NaN  I was curious: Can you exchange pay for a plac...   \n",
       "\n",
       "   total_awards_received                                                url  \\\n",
       "0                      0  https://www.reddit.com/r/careerguidance/commen...   \n",
       "1                      0  https://www.reddit.com/r/careerguidance/commen...   \n",
       "2                      0  https://www.reddit.com/r/careerguidance/commen...   \n",
       "3                      0  https://www.reddit.com/r/careerguidance/commen...   \n",
       "4                      0  https://www.reddit.com/r/careerguidance/commen...   \n",
       "\n",
       "   whitelist_status wls  \n",
       "0           all_ads   6  \n",
       "1           all_ads   6  \n",
       "2           all_ads   6  \n",
       "3           all_ads   6  \n",
       "4           all_ads   6  \n",
       "\n",
       "[5 rows x 70 columns]"
      ]
     },
     "execution_count": 106,
     "metadata": {},
     "output_type": "execute_result"
    }
   ],
   "source": [
    "# Getting a sense of what the columns have to select those that I can use: \n",
    "career_complete.head()"
   ]
  },
  {
   "cell_type": "code",
   "execution_count": 107,
   "metadata": {},
   "outputs": [
    {
     "data": {
      "text/html": [
       "<div>\n",
       "<style scoped>\n",
       "    .dataframe tbody tr th:only-of-type {\n",
       "        vertical-align: middle;\n",
       "    }\n",
       "\n",
       "    .dataframe tbody tr th {\n",
       "        vertical-align: top;\n",
       "    }\n",
       "\n",
       "    .dataframe thead th {\n",
       "        text-align: right;\n",
       "    }\n",
       "</style>\n",
       "<table border=\"1\" class=\"dataframe\">\n",
       "  <thead>\n",
       "    <tr style=\"text-align: right;\">\n",
       "      <th></th>\n",
       "      <th>subreddit_id</th>\n",
       "      <th>subreddit_subscribers</th>\n",
       "      <th>subreddit_type</th>\n",
       "      <th>thumbnail</th>\n",
       "      <th>thumbnail_height</th>\n",
       "      <th>thumbnail_width</th>\n",
       "      <th>title</th>\n",
       "    </tr>\n",
       "  </thead>\n",
       "  <tbody>\n",
       "    <tr>\n",
       "      <th>1</th>\n",
       "      <td>t5_2t9i0</td>\n",
       "      <td>128147</td>\n",
       "      <td>public</td>\n",
       "      <td>self</td>\n",
       "      <td>NaN</td>\n",
       "      <td>NaN</td>\n",
       "      <td>Need advice on career change and from friends ...</td>\n",
       "    </tr>\n",
       "    <tr>\n",
       "      <th>2</th>\n",
       "      <td>t5_2t9i0</td>\n",
       "      <td>128142</td>\n",
       "      <td>public</td>\n",
       "      <td>self</td>\n",
       "      <td>NaN</td>\n",
       "      <td>NaN</td>\n",
       "      <td>Burnout: What freelance jobs can I do if I qui...</td>\n",
       "    </tr>\n",
       "    <tr>\n",
       "      <th>3</th>\n",
       "      <td>t5_2t9i0</td>\n",
       "      <td>128140</td>\n",
       "      <td>public</td>\n",
       "      <td>self</td>\n",
       "      <td>NaN</td>\n",
       "      <td>NaN</td>\n",
       "      <td>Do I lack work ethic or am I being gaslighted?</td>\n",
       "    </tr>\n",
       "    <tr>\n",
       "      <th>4</th>\n",
       "      <td>t5_2t9i0</td>\n",
       "      <td>128135</td>\n",
       "      <td>public</td>\n",
       "      <td>self</td>\n",
       "      <td>NaN</td>\n",
       "      <td>NaN</td>\n",
       "      <td>I was curious: Can you exchange pay for a plac...</td>\n",
       "    </tr>\n",
       "  </tbody>\n",
       "</table>\n",
       "</div>"
      ],
      "text/plain": [
       "  subreddit_id  subreddit_subscribers subreddit_type thumbnail  \\\n",
       "1     t5_2t9i0                 128147         public      self   \n",
       "2     t5_2t9i0                 128142         public      self   \n",
       "3     t5_2t9i0                 128140         public      self   \n",
       "4     t5_2t9i0                 128135         public      self   \n",
       "\n",
       "   thumbnail_height  thumbnail_width  \\\n",
       "1               NaN              NaN   \n",
       "2               NaN              NaN   \n",
       "3               NaN              NaN   \n",
       "4               NaN              NaN   \n",
       "\n",
       "                                               title  \n",
       "1  Need advice on career change and from friends ...  \n",
       "2  Burnout: What freelance jobs can I do if I qui...  \n",
       "3     Do I lack work ethic or am I being gaslighted?  \n",
       "4  I was curious: Can you exchange pay for a plac...  "
      ]
     },
     "execution_count": 107,
     "metadata": {},
     "output_type": "execute_result"
    }
   ],
   "source": [
    "# I changed the column numbers to explore all. Then noted which columns had useful information that I should keep\n",
    "career_complete.iloc[1:5, 59:66]"
   ]
  },
  {
   "cell_type": "code",
   "execution_count": 108,
   "metadata": {},
   "outputs": [
    {
     "data": {
      "text/plain": [
       "Index(['all_awardings', 'allow_live_comments', 'author', 'author_cakeday',\n",
       "       'author_flair_background_color', 'author_flair_css_class',\n",
       "       'author_flair_richtext', 'author_flair_template_id',\n",
       "       'author_flair_text', 'author_flair_text_color', 'author_flair_type',\n",
       "       'author_fullname', 'author_patreon_flair', 'author_premium', 'awarders',\n",
       "       'banned_by', 'can_mod_post', 'contest_mode', 'created_utc',\n",
       "       'crosspost_parent', 'crosspost_parent_list', 'domain', 'edited',\n",
       "       'full_link', 'gildings', 'id', 'is_crosspostable', 'is_meta',\n",
       "       'is_original_content', 'is_reddit_media_domain', 'is_robot_indexable',\n",
       "       'is_self', 'is_video', 'link_flair_background_color',\n",
       "       'link_flair_richtext', 'link_flair_text_color', 'link_flair_type',\n",
       "       'locked', 'media_only', 'no_follow', 'num_comments', 'num_crossposts',\n",
       "       'over_18', 'parent_whitelist_status', 'permalink', 'pinned',\n",
       "       'post_hint', 'preview', 'pwls', 'removed_by', 'removed_by_category',\n",
       "       'retrieved_on', 'score', 'selftext', 'send_replies', 'spoiler',\n",
       "       'steward_reports', 'stickied', 'subreddit', 'subreddit_id',\n",
       "       'subreddit_subscribers', 'subreddit_type', 'thumbnail',\n",
       "       'thumbnail_height', 'thumbnail_width', 'title', 'total_awards_received',\n",
       "       'url', 'whitelist_status', 'wls'],\n",
       "      dtype='object')"
      ]
     },
     "execution_count": 108,
     "metadata": {},
     "output_type": "execute_result"
    }
   ],
   "source": [
    "# After looking at the 66 variables I chose 15 for further exploration . First, I'll get a list of all the columns\n",
    "career_complete.columns"
   ]
  },
  {
   "cell_type": "code",
   "execution_count": 109,
   "metadata": {},
   "outputs": [],
   "source": [
    "# Creating a subset of the columns I am interested in \n",
    "career_complete_selfeat = career_complete[['author','created_utc', 'full_link', 'is_video', 'media_only', 'num_comments', \n",
    "                                           'num_crossposts', 'over_18', 'score', 'selftext', 'subreddit', 'title', 'url', \n",
    "                                           'crosspost_parent', 'crosspost_parent_list']]"
   ]
  },
  {
   "cell_type": "code",
   "execution_count": 209,
   "metadata": {},
   "outputs": [],
   "source": [
    "# Saving this subreddit selection as a csv\n",
    "career_complete_selfeat.to_csv('./career_df.csv', index=False)"
   ]
  },
  {
   "cell_type": "markdown",
   "metadata": {},
   "source": [
    "#### Getting 10,000 submissions from Higher Education subredit"
   ]
  },
  {
   "cell_type": "code",
   "execution_count": 191,
   "metadata": {},
   "outputs": [],
   "source": [
    "params2 = {'subreddit':'highereducation', \n",
    "         'size': 1000, \n",
    "          'before': 1452881241}"
   ]
  },
  {
   "cell_type": "code",
   "execution_count": 192,
   "metadata": {},
   "outputs": [],
   "source": [
    "# Requesting content from url\n",
    "response_highered = requests.get(url,params2)"
   ]
  },
  {
   "cell_type": "code",
   "execution_count": 193,
   "metadata": {},
   "outputs": [
    {
     "data": {
      "text/plain": [
       "200"
      ]
     },
     "execution_count": 193,
     "metadata": {},
     "output_type": "execute_result"
    }
   ],
   "source": [
    "# Checking the status of the request. All good.\n",
    "response_highered.status_code"
   ]
  },
  {
   "cell_type": "code",
   "execution_count": 194,
   "metadata": {},
   "outputs": [],
   "source": [
    "# Looking at the text \n",
    "highered_data = response_highered.json()"
   ]
  },
  {
   "cell_type": "code",
   "execution_count": 195,
   "metadata": {},
   "outputs": [],
   "source": [
    "postshe = highered_data['data']"
   ]
  },
  {
   "cell_type": "code",
   "execution_count": 196,
   "metadata": {},
   "outputs": [],
   "source": [
    "# Converting it into a data frame \n",
    "highered_data_df10 = pd.DataFrame(postshe)"
   ]
  },
  {
   "cell_type": "code",
   "execution_count": 197,
   "metadata": {},
   "outputs": [
    {
     "data": {
      "text/plain": [
       "(1000, 32)"
      ]
     },
     "execution_count": 197,
     "metadata": {},
     "output_type": "execute_result"
    }
   ],
   "source": [
    "# Making sure I have 1000 values \n",
    "highered_data_df10.shape"
   ]
  },
  {
   "cell_type": "code",
   "execution_count": 198,
   "metadata": {},
   "outputs": [
    {
     "data": {
      "text/plain": [
       "995    1441202756\n",
       "996    1441198833\n",
       "997    1441192885\n",
       "998    1441192140\n",
       "999    1441184502\n",
       "Name: created_utc, dtype: int64"
      ]
     },
     "execution_count": 198,
     "metadata": {},
     "output_type": "execute_result"
    }
   ],
   "source": [
    "# Checking the time of creation of the last post to get the information to fill in the before parameter above. \n",
    "highered_data_df10['created_utc'].tail()"
   ]
  },
  {
   "cell_type": "code",
   "execution_count": 199,
   "metadata": {},
   "outputs": [],
   "source": [
    "# Making a dataframe of the values I found\n",
    "highered10 = pd.DataFrame(highered_data_df10)"
   ]
  },
  {
   "cell_type": "code",
   "execution_count": 202,
   "metadata": {},
   "outputs": [],
   "source": [
    "# Bringing all the dataframes together in a list to then concatenate \n",
    "highered_list = [highered1, highered2, highered3, highered4, highered5, highered6, highered7, highered8, highered9, highered10]"
   ]
  },
  {
   "cell_type": "code",
   "execution_count": 203,
   "metadata": {},
   "outputs": [
    {
     "name": "stderr",
     "output_type": "stream",
     "text": [
      "/Users/vvroseth/opt/anaconda3/lib/python3.7/site-packages/ipykernel_launcher.py:1: FutureWarning: Sorting because non-concatenation axis is not aligned. A future version\n",
      "of pandas will change to not sort by default.\n",
      "\n",
      "To accept the future behavior, pass 'sort=False'.\n",
      "\n",
      "To retain the current behavior and silence the warning, pass 'sort=True'.\n",
      "\n",
      "  \"\"\"Entry point for launching an IPython kernel.\n"
     ]
    }
   ],
   "source": [
    "highered_complete = pd.concat(highered_list)"
   ]
  },
  {
   "cell_type": "code",
   "execution_count": 204,
   "metadata": {},
   "outputs": [
    {
     "data": {
      "text/plain": [
       "pandas.core.frame.DataFrame"
      ]
     },
     "execution_count": 204,
     "metadata": {},
     "output_type": "execute_result"
    }
   ],
   "source": [
    "# Checking that I actually created a dataframe\n",
    "type(highered_complete)"
   ]
  },
  {
   "cell_type": "code",
   "execution_count": 205,
   "metadata": {},
   "outputs": [
    {
     "data": {
      "text/plain": [
       "(10000, 89)"
      ]
     },
     "execution_count": 205,
     "metadata": {},
     "output_type": "execute_result"
    }
   ],
   "source": [
    "# Checking the size of this dataframe \n",
    "highered_complete.shape"
   ]
  },
  {
   "cell_type": "code",
   "execution_count": 207,
   "metadata": {},
   "outputs": [
    {
     "data": {
      "text/plain": [
       "Index(['all_awardings', 'allow_live_comments', 'approved_at_utc', 'author',\n",
       "       'author_cakeday', 'author_created_utc', 'author_flair_background_color',\n",
       "       'author_flair_css_class', 'author_flair_richtext', 'author_flair_text',\n",
       "       'author_flair_text_color', 'author_flair_type', 'author_fullname',\n",
       "       'author_id', 'author_patreon_flair', 'author_premium', 'awarders',\n",
       "       'banned_at_utc', 'banned_by', 'brand_safe', 'can_mod_post',\n",
       "       'contest_mode', 'created_utc', 'crosspost_parent',\n",
       "       'crosspost_parent_list', 'distinguished', 'domain', 'edited',\n",
       "       'full_link', 'gilded', 'gildings', 'id', 'is_crosspostable', 'is_meta',\n",
       "       'is_original_content', 'is_reddit_media_domain', 'is_robot_indexable',\n",
       "       'is_self', 'is_video', 'link_flair_background_color',\n",
       "       'link_flair_css_class', 'link_flair_richtext', 'link_flair_text',\n",
       "       'link_flair_text_color', 'link_flair_type', 'locked', 'media',\n",
       "       'media_embed', 'media_metadata', 'media_only', 'no_follow',\n",
       "       'num_comments', 'num_crossposts', 'og_description', 'og_title',\n",
       "       'over_18', 'parent_whitelist_status', 'permalink', 'pinned',\n",
       "       'post_hint', 'preview', 'pwls', 'removed_by', 'removed_by_category',\n",
       "       'retrieved_on', 'rte_mode', 'score', 'secure_media',\n",
       "       'secure_media_embed', 'selftext', 'send_replies', 'spoiler',\n",
       "       'steward_reports', 'stickied', 'subreddit', 'subreddit_id',\n",
       "       'subreddit_subscribers', 'subreddit_type', 'suggested_sort',\n",
       "       'thumbnail', 'thumbnail_height', 'thumbnail_width', 'title',\n",
       "       'total_awards_received', 'updated_utc', 'url', 'view_count',\n",
       "       'whitelist_status', 'wls'],\n",
       "      dtype='object')"
      ]
     },
     "execution_count": 207,
     "metadata": {},
     "output_type": "execute_result"
    }
   ],
   "source": [
    "# Looking at the columns in this data set. It does have more than the career guidance dataset, but they \n",
    "# won't be used for comparisson. So I am ignoring them. \n",
    "highered_complete.columns"
   ]
  },
  {
   "cell_type": "code",
   "execution_count": 208,
   "metadata": {},
   "outputs": [],
   "source": [
    "# Selecting the columns I need\n",
    "highered_complete_selfeat = highered_complete[['author','created_utc', 'full_link', 'is_video', 'media_only', 'num_comments', \n",
    "                                           'num_crossposts', 'over_18', 'score', 'selftext', 'subreddit', 'title', 'url', \n",
    "                                           'crosspost_parent', 'crosspost_parent_list']]"
   ]
  },
  {
   "cell_type": "code",
   "execution_count": 210,
   "metadata": {},
   "outputs": [],
   "source": [
    "# Saving this subreddit selection as a csv\n",
    "highered_complete_selfeat.to_csv('./highered_df.csv', index=False)"
   ]
  },
  {
   "cell_type": "markdown",
   "metadata": {},
   "source": [
    "#### Concatenating the two subreddits for cleaning "
   ]
  },
  {
   "cell_type": "code",
   "execution_count": 213,
   "metadata": {},
   "outputs": [],
   "source": [
    "# Concatenaging both dataframes into one \n",
    "two_subreddits = pd.concat([career_complete_selfeat, highered_complete_selfeat])"
   ]
  },
  {
   "cell_type": "code",
   "execution_count": 214,
   "metadata": {},
   "outputs": [
    {
     "data": {
      "text/html": [
       "<div>\n",
       "<style scoped>\n",
       "    .dataframe tbody tr th:only-of-type {\n",
       "        vertical-align: middle;\n",
       "    }\n",
       "\n",
       "    .dataframe tbody tr th {\n",
       "        vertical-align: top;\n",
       "    }\n",
       "\n",
       "    .dataframe thead th {\n",
       "        text-align: right;\n",
       "    }\n",
       "</style>\n",
       "<table border=\"1\" class=\"dataframe\">\n",
       "  <thead>\n",
       "    <tr style=\"text-align: right;\">\n",
       "      <th></th>\n",
       "      <th>author</th>\n",
       "      <th>created_utc</th>\n",
       "      <th>full_link</th>\n",
       "      <th>is_video</th>\n",
       "      <th>media_only</th>\n",
       "      <th>num_comments</th>\n",
       "      <th>num_crossposts</th>\n",
       "      <th>over_18</th>\n",
       "      <th>score</th>\n",
       "      <th>selftext</th>\n",
       "      <th>subreddit</th>\n",
       "      <th>title</th>\n",
       "      <th>url</th>\n",
       "      <th>crosspost_parent</th>\n",
       "      <th>crosspost_parent_list</th>\n",
       "    </tr>\n",
       "  </thead>\n",
       "  <tbody>\n",
       "    <tr>\n",
       "      <th>0</th>\n",
       "      <td>KAMI_aka</td>\n",
       "      <td>1580305052</td>\n",
       "      <td>https://www.reddit.com/r/careerguidance/commen...</td>\n",
       "      <td>False</td>\n",
       "      <td>False</td>\n",
       "      <td>0</td>\n",
       "      <td>0.0</td>\n",
       "      <td>False</td>\n",
       "      <td>1</td>\n",
       "      <td>Im in my final year of my undergraduate degree...</td>\n",
       "      <td>careerguidance</td>\n",
       "      <td>Can I pursue a master's in engineering managem...</td>\n",
       "      <td>https://www.reddit.com/r/careerguidance/commen...</td>\n",
       "      <td>NaN</td>\n",
       "      <td>NaN</td>\n",
       "    </tr>\n",
       "    <tr>\n",
       "      <th>1</th>\n",
       "      <td>LostAMO</td>\n",
       "      <td>1580304222</td>\n",
       "      <td>https://www.reddit.com/r/careerguidance/commen...</td>\n",
       "      <td>False</td>\n",
       "      <td>False</td>\n",
       "      <td>2</td>\n",
       "      <td>0.0</td>\n",
       "      <td>False</td>\n",
       "      <td>1</td>\n",
       "      <td>[removed]</td>\n",
       "      <td>careerguidance</td>\n",
       "      <td>Need advice on career change and from friends ...</td>\n",
       "      <td>https://www.reddit.com/r/careerguidance/commen...</td>\n",
       "      <td>NaN</td>\n",
       "      <td>NaN</td>\n",
       "    </tr>\n",
       "    <tr>\n",
       "      <th>2</th>\n",
       "      <td>PMMeYourMortys</td>\n",
       "      <td>1580302245</td>\n",
       "      <td>https://www.reddit.com/r/careerguidance/commen...</td>\n",
       "      <td>False</td>\n",
       "      <td>False</td>\n",
       "      <td>1</td>\n",
       "      <td>0.0</td>\n",
       "      <td>False</td>\n",
       "      <td>1</td>\n",
       "      <td>I’m utterly burning out. Every day for the pas...</td>\n",
       "      <td>careerguidance</td>\n",
       "      <td>Burnout: What freelance jobs can I do if I qui...</td>\n",
       "      <td>https://www.reddit.com/r/careerguidance/commen...</td>\n",
       "      <td>NaN</td>\n",
       "      <td>NaN</td>\n",
       "    </tr>\n",
       "    <tr>\n",
       "      <th>3</th>\n",
       "      <td>NotJobObsessed</td>\n",
       "      <td>1580301838</td>\n",
       "      <td>https://www.reddit.com/r/careerguidance/commen...</td>\n",
       "      <td>False</td>\n",
       "      <td>False</td>\n",
       "      <td>2</td>\n",
       "      <td>0.0</td>\n",
       "      <td>False</td>\n",
       "      <td>1</td>\n",
       "      <td>Sometime ago, we moved from the north east to ...</td>\n",
       "      <td>careerguidance</td>\n",
       "      <td>Do I lack work ethic or am I being gaslighted?</td>\n",
       "      <td>https://www.reddit.com/r/careerguidance/commen...</td>\n",
       "      <td>NaN</td>\n",
       "      <td>NaN</td>\n",
       "    </tr>\n",
       "    <tr>\n",
       "      <th>4</th>\n",
       "      <td>NoxiousToxic</td>\n",
       "      <td>1580300094</td>\n",
       "      <td>https://www.reddit.com/r/careerguidance/commen...</td>\n",
       "      <td>False</td>\n",
       "      <td>False</td>\n",
       "      <td>1</td>\n",
       "      <td>0.0</td>\n",
       "      <td>False</td>\n",
       "      <td>1</td>\n",
       "      <td>If this isn’t the place to ask, I will thank t...</td>\n",
       "      <td>careerguidance</td>\n",
       "      <td>I was curious: Can you exchange pay for a plac...</td>\n",
       "      <td>https://www.reddit.com/r/careerguidance/commen...</td>\n",
       "      <td>NaN</td>\n",
       "      <td>NaN</td>\n",
       "    </tr>\n",
       "  </tbody>\n",
       "</table>\n",
       "</div>"
      ],
      "text/plain": [
       "           author  created_utc  \\\n",
       "0        KAMI_aka   1580305052   \n",
       "1         LostAMO   1580304222   \n",
       "2  PMMeYourMortys   1580302245   \n",
       "3  NotJobObsessed   1580301838   \n",
       "4    NoxiousToxic   1580300094   \n",
       "\n",
       "                                           full_link is_video media_only  \\\n",
       "0  https://www.reddit.com/r/careerguidance/commen...    False      False   \n",
       "1  https://www.reddit.com/r/careerguidance/commen...    False      False   \n",
       "2  https://www.reddit.com/r/careerguidance/commen...    False      False   \n",
       "3  https://www.reddit.com/r/careerguidance/commen...    False      False   \n",
       "4  https://www.reddit.com/r/careerguidance/commen...    False      False   \n",
       "\n",
       "   num_comments  num_crossposts  over_18  score  \\\n",
       "0             0             0.0    False      1   \n",
       "1             2             0.0    False      1   \n",
       "2             1             0.0    False      1   \n",
       "3             2             0.0    False      1   \n",
       "4             1             0.0    False      1   \n",
       "\n",
       "                                            selftext       subreddit  \\\n",
       "0  Im in my final year of my undergraduate degree...  careerguidance   \n",
       "1                                          [removed]  careerguidance   \n",
       "2  I’m utterly burning out. Every day for the pas...  careerguidance   \n",
       "3  Sometime ago, we moved from the north east to ...  careerguidance   \n",
       "4  If this isn’t the place to ask, I will thank t...  careerguidance   \n",
       "\n",
       "                                               title  \\\n",
       "0  Can I pursue a master's in engineering managem...   \n",
       "1  Need advice on career change and from friends ...   \n",
       "2  Burnout: What freelance jobs can I do if I qui...   \n",
       "3     Do I lack work ethic or am I being gaslighted?   \n",
       "4  I was curious: Can you exchange pay for a plac...   \n",
       "\n",
       "                                                 url crosspost_parent  \\\n",
       "0  https://www.reddit.com/r/careerguidance/commen...              NaN   \n",
       "1  https://www.reddit.com/r/careerguidance/commen...              NaN   \n",
       "2  https://www.reddit.com/r/careerguidance/commen...              NaN   \n",
       "3  https://www.reddit.com/r/careerguidance/commen...              NaN   \n",
       "4  https://www.reddit.com/r/careerguidance/commen...              NaN   \n",
       "\n",
       "  crosspost_parent_list  \n",
       "0                   NaN  \n",
       "1                   NaN  \n",
       "2                   NaN  \n",
       "3                   NaN  \n",
       "4                   NaN  "
      ]
     },
     "execution_count": 214,
     "metadata": {},
     "output_type": "execute_result"
    }
   ],
   "source": [
    "# Making sure I did what I wanted \n",
    "two_subreddits.head()"
   ]
  },
  {
   "cell_type": "code",
   "execution_count": 215,
   "metadata": {},
   "outputs": [
    {
     "data": {
      "text/html": [
       "<div>\n",
       "<style scoped>\n",
       "    .dataframe tbody tr th:only-of-type {\n",
       "        vertical-align: middle;\n",
       "    }\n",
       "\n",
       "    .dataframe tbody tr th {\n",
       "        vertical-align: top;\n",
       "    }\n",
       "\n",
       "    .dataframe thead th {\n",
       "        text-align: right;\n",
       "    }\n",
       "</style>\n",
       "<table border=\"1\" class=\"dataframe\">\n",
       "  <thead>\n",
       "    <tr style=\"text-align: right;\">\n",
       "      <th></th>\n",
       "      <th>author</th>\n",
       "      <th>created_utc</th>\n",
       "      <th>full_link</th>\n",
       "      <th>is_video</th>\n",
       "      <th>media_only</th>\n",
       "      <th>num_comments</th>\n",
       "      <th>num_crossposts</th>\n",
       "      <th>over_18</th>\n",
       "      <th>score</th>\n",
       "      <th>selftext</th>\n",
       "      <th>subreddit</th>\n",
       "      <th>title</th>\n",
       "      <th>url</th>\n",
       "      <th>crosspost_parent</th>\n",
       "      <th>crosspost_parent_list</th>\n",
       "    </tr>\n",
       "  </thead>\n",
       "  <tbody>\n",
       "    <tr>\n",
       "      <th>995</th>\n",
       "      <td>ESB605</td>\n",
       "      <td>1441202756</td>\n",
       "      <td>https://www.reddit.com/r/highereducation/comme...</td>\n",
       "      <td>NaN</td>\n",
       "      <td>NaN</td>\n",
       "      <td>0</td>\n",
       "      <td>NaN</td>\n",
       "      <td>False</td>\n",
       "      <td>3</td>\n",
       "      <td></td>\n",
       "      <td>highereducation</td>\n",
       "      <td>Survey Examines Cooperation Between Faculty, L...</td>\n",
       "      <td>https://www.insidehighered.com/quicktakes/2015...</td>\n",
       "      <td>NaN</td>\n",
       "      <td>NaN</td>\n",
       "    </tr>\n",
       "    <tr>\n",
       "      <th>996</th>\n",
       "      <td>percytrappe</td>\n",
       "      <td>1441198833</td>\n",
       "      <td>https://www.reddit.com/r/highereducation/comme...</td>\n",
       "      <td>NaN</td>\n",
       "      <td>NaN</td>\n",
       "      <td>1</td>\n",
       "      <td>NaN</td>\n",
       "      <td>False</td>\n",
       "      <td>3</td>\n",
       "      <td></td>\n",
       "      <td>highereducation</td>\n",
       "      <td>University Humor – Erskine Bowles</td>\n",
       "      <td>https://academicanchor.wordpress.com/2012/12/0...</td>\n",
       "      <td>NaN</td>\n",
       "      <td>NaN</td>\n",
       "    </tr>\n",
       "    <tr>\n",
       "      <th>997</th>\n",
       "      <td>rellotscire</td>\n",
       "      <td>1441192885</td>\n",
       "      <td>https://www.reddit.com/r/highereducation/comme...</td>\n",
       "      <td>NaN</td>\n",
       "      <td>NaN</td>\n",
       "      <td>0</td>\n",
       "      <td>NaN</td>\n",
       "      <td>False</td>\n",
       "      <td>3</td>\n",
       "      <td></td>\n",
       "      <td>highereducation</td>\n",
       "      <td>Are we nearing the end of college tuition pric...</td>\n",
       "      <td>http://www.washingtonpost.com/news/grade-point...</td>\n",
       "      <td>NaN</td>\n",
       "      <td>NaN</td>\n",
       "    </tr>\n",
       "    <tr>\n",
       "      <th>998</th>\n",
       "      <td>rellotscire</td>\n",
       "      <td>1441192140</td>\n",
       "      <td>https://www.reddit.com/r/highereducation/comme...</td>\n",
       "      <td>NaN</td>\n",
       "      <td>NaN</td>\n",
       "      <td>2</td>\n",
       "      <td>NaN</td>\n",
       "      <td>False</td>\n",
       "      <td>9</td>\n",
       "      <td></td>\n",
       "      <td>highereducation</td>\n",
       "      <td>Why Students With Smallest Debts Have the Larg...</td>\n",
       "      <td>http://www.nytimes.com/2015/09/01/upshot/why-s...</td>\n",
       "      <td>NaN</td>\n",
       "      <td>NaN</td>\n",
       "    </tr>\n",
       "    <tr>\n",
       "      <th>999</th>\n",
       "      <td>rellotscire</td>\n",
       "      <td>1441184502</td>\n",
       "      <td>https://www.reddit.com/r/highereducation/comme...</td>\n",
       "      <td>NaN</td>\n",
       "      <td>NaN</td>\n",
       "      <td>1</td>\n",
       "      <td>NaN</td>\n",
       "      <td>False</td>\n",
       "      <td>11</td>\n",
       "      <td></td>\n",
       "      <td>highereducation</td>\n",
       "      <td>Daily Marijuana Use Among College Students Hig...</td>\n",
       "      <td>http://detroit.cbslocal.com/2015/09/01/higher-...</td>\n",
       "      <td>NaN</td>\n",
       "      <td>NaN</td>\n",
       "    </tr>\n",
       "  </tbody>\n",
       "</table>\n",
       "</div>"
      ],
      "text/plain": [
       "          author  created_utc  \\\n",
       "995       ESB605   1441202756   \n",
       "996  percytrappe   1441198833   \n",
       "997  rellotscire   1441192885   \n",
       "998  rellotscire   1441192140   \n",
       "999  rellotscire   1441184502   \n",
       "\n",
       "                                             full_link is_video media_only  \\\n",
       "995  https://www.reddit.com/r/highereducation/comme...      NaN        NaN   \n",
       "996  https://www.reddit.com/r/highereducation/comme...      NaN        NaN   \n",
       "997  https://www.reddit.com/r/highereducation/comme...      NaN        NaN   \n",
       "998  https://www.reddit.com/r/highereducation/comme...      NaN        NaN   \n",
       "999  https://www.reddit.com/r/highereducation/comme...      NaN        NaN   \n",
       "\n",
       "     num_comments  num_crossposts  over_18  score selftext        subreddit  \\\n",
       "995             0             NaN    False      3           highereducation   \n",
       "996             1             NaN    False      3           highereducation   \n",
       "997             0             NaN    False      3           highereducation   \n",
       "998             2             NaN    False      9           highereducation   \n",
       "999             1             NaN    False     11           highereducation   \n",
       "\n",
       "                                                 title  \\\n",
       "995  Survey Examines Cooperation Between Faculty, L...   \n",
       "996                  University Humor – Erskine Bowles   \n",
       "997  Are we nearing the end of college tuition pric...   \n",
       "998  Why Students With Smallest Debts Have the Larg...   \n",
       "999  Daily Marijuana Use Among College Students Hig...   \n",
       "\n",
       "                                                   url crosspost_parent  \\\n",
       "995  https://www.insidehighered.com/quicktakes/2015...              NaN   \n",
       "996  https://academicanchor.wordpress.com/2012/12/0...              NaN   \n",
       "997  http://www.washingtonpost.com/news/grade-point...              NaN   \n",
       "998  http://www.nytimes.com/2015/09/01/upshot/why-s...              NaN   \n",
       "999  http://detroit.cbslocal.com/2015/09/01/higher-...              NaN   \n",
       "\n",
       "    crosspost_parent_list  \n",
       "995                   NaN  \n",
       "996                   NaN  \n",
       "997                   NaN  \n",
       "998                   NaN  \n",
       "999                   NaN  "
      ]
     },
     "execution_count": 215,
     "metadata": {},
     "output_type": "execute_result"
    }
   ],
   "source": [
    "two_subreddits.tail()"
   ]
  },
  {
   "cell_type": "code",
   "execution_count": 216,
   "metadata": {},
   "outputs": [
    {
     "data": {
      "text/plain": [
       "(20000, 15)"
      ]
     },
     "execution_count": 216,
     "metadata": {},
     "output_type": "execute_result"
    }
   ],
   "source": [
    "# Making sure that I have 20000 rows\n",
    "two_subreddits.shape"
   ]
  },
  {
   "cell_type": "code",
   "execution_count": 218,
   "metadata": {},
   "outputs": [],
   "source": [
    "# Turning this dataframe into a cvs \n",
    "two_subreddits.to_csv('./two_subreddits.csv', index=False)"
   ]
  },
  {
   "cell_type": "code",
   "execution_count": null,
   "metadata": {},
   "outputs": [],
   "source": []
  }
 ],
 "metadata": {
  "kernelspec": {
   "display_name": "Python 3",
   "language": "python",
   "name": "python3"
  },
  "language_info": {
   "codemirror_mode": {
    "name": "ipython",
    "version": 3
   },
   "file_extension": ".py",
   "mimetype": "text/x-python",
   "name": "python",
   "nbconvert_exporter": "python",
   "pygments_lexer": "ipython3",
   "version": "3.7.4"
  }
 },
 "nbformat": 4,
 "nbformat_minor": 4
}
